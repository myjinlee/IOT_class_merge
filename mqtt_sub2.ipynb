{
  "cells": [
    {
      "cell_type": "markdown",
      "metadata": {
        "id": "view-in-github",
        "colab_type": "text"
      },
      "source": [
        "<a href=\"https://colab.research.google.com/github/myjinlee/IOT_class_merge/blob/main/mqtt_sub2.ipynb\" target=\"_parent\"><img src=\"https://colab.research.google.com/assets/colab-badge.svg\" alt=\"Open In Colab\"/></a>"
      ]
    },
    {
      "cell_type": "code",
      "execution_count": 6,
      "metadata": {
        "colab": {
          "base_uri": "https://localhost:8080/"
        },
        "id": "LOz95CDo5sNl",
        "outputId": "cba8465f-c623-48ef-82a8-fadb1d99b6ce"
      },
      "outputs": [
        {
          "output_type": "stream",
          "name": "stdout",
          "text": [
            "Requirement already satisfied: paho-mqtt in /usr/local/lib/python3.10/dist-packages (2.0.0)\n"
          ]
        }
      ],
      "source": [
        "!pip install paho-mqtt"
      ]
    },
    {
      "cell_type": "code",
      "execution_count": 5,
      "metadata": {
        "colab": {
          "base_uri": "https://localhost:8080/"
        },
        "id": "270WidOeqPwJ",
        "outputId": "af62feac-5f13-4021-d4c3-47fde61fcd4b"
      },
      "outputs": [
        {
          "output_type": "stream",
          "name": "stdout",
          "text": [
            "Drive already mounted at /content/drive; to attempt to forcibly remount, call drive.mount(\"/content/drive\", force_remount=True).\n"
          ]
        }
      ],
      "source": [
        "from google.colab import drive\n",
        "drive.mount('/content/drive')"
      ]
    },
    {
      "cell_type": "code",
      "execution_count": 7,
      "metadata": {
        "id": "EUI_AKr_6Rqc"
      },
      "outputs": [],
      "source": [
        "import json\n",
        "import requests\n",
        "n=0\n",
        "\n",
        "def doit(topic, payload):\n",
        "  global n\n",
        "  print(topic, payload)\n",
        "  j=json.loads(payload)\n",
        "  #print(j['co2'])\n",
        "  #url='https://api.thingspeak.com/update?api_key=MBXHFKNOS3NTXOGA'\n",
        "  url='https://api.thingspeak.com/update?api_key=70B2GG571IHYZASY'\n",
        "  url +='&field1='+j['co2']\n",
        "  url +='&field2='+j['bme680'].split(',')[0]\n",
        "  if n>15:\n",
        "    r=requests.get(url)\n",
        "    print(url, r.text)\n",
        "    n=0\n",
        "  n+=1\n"
      ]
    },
    {
      "cell_type": "code",
      "execution_count": null,
      "metadata": {
        "colab": {
          "background_save": true,
          "base_uri": "https://localhost:8080/"
        },
        "id": "sKfD1kh46VCO",
        "outputId": "6c3e17dc-4b54-4056-d8b4-e5cda8132d25"
      },
      "outputs": [
        {
          "output_type": "stream",
          "name": "stdout",
          "text": [
            "Connected with result code Success\n",
            "connectware/indoor/data/1501 {\"dust\":\"33,37\",\"co2\":\"395\",\"bme680\":\"25.74,23.80,1333003,100977,28.93\",\"time\":\"2024-04-05 19:30:36\", \"serial\":101091, \"ip\":\"203.255.190.49\"}\n",
            "connectware/indoor/data/1501 {\"dust\":\"33,37\",\"co2\":\"395\",\"bme680\":\"25.74,23.82,1335650,100977,28.93\",\"time\":\"2024-04-05 19:30:37\", \"serial\":101092, \"ip\":\"203.255.190.49\"}\n",
            "connectware/indoor/data/1501 {\"dust\":\"35,38\",\"co2\":\"395\",\"bme680\":\"25.74,23.80,1334325,100977,28.93\",\"time\":\"2024-04-05 19:30:38\", \"serial\":101093, \"ip\":\"203.255.190.49\"}\n",
            "connectware/indoor/data/1501 {\"dust\":\"34,38\",\"co2\":\"395\",\"bme680\":\"25.74,23.81,1333003,100978,28.93\",\"time\":\"2024-04-05 19:30:39\", \"serial\":101094, \"ip\":\"203.255.190.49\"}\n",
            "connectware/indoor/data/1501 {\"dust\":\"35,40\",\"co2\":\"395\",\"bme680\":\"25.73,23.80,1331683,100978,28.85\",\"time\":\"2024-04-05 19:30:40\", \"serial\":101095, \"ip\":\"203.255.190.49\"}\n",
            "connectware/indoor/data/1501 {\"dust\":\"35,42\",\"co2\":\"395\",\"bme680\":\"25.73,23.81,1335650,100978,28.93\",\"time\":\"2024-04-05 19:30:41\", \"serial\":101096, \"ip\":\"203.255.190.49\"}\n",
            "connectware/indoor/data/1501 {\"dust\":\"36,43\",\"co2\":\"395\",\"bme680\":\"25.73,23.83,1336978,100978,28.85\",\"time\":\"2024-04-05 19:30:42\", \"serial\":101097, \"ip\":\"203.255.190.49\"}\n",
            "connectware/indoor/data/1501 {\"dust\":\"36,43\",\"co2\":\"395\",\"bme680\":\"25.73,23.82,1333003,100977,28.93\",\"time\":\"2024-04-05 19:30:43\", \"serial\":101098, \"ip\":\"203.255.190.49\"}\n",
            "connectware/indoor/data/1501 {\"dust\":\"36,44\",\"co2\":\"395\",\"bme680\":\"25.73,23.83,1339641,100979,28.76\",\"time\":\"2024-04-05 19:30:44\", \"serial\":101099, \"ip\":\"203.255.190.49\"}\n",
            "connectware/indoor/data/1501 {\"dust\":\"38,45\",\"co2\":\"395\",\"bme680\":\"25.73,23.82,1334325,100978,28.85\",\"time\":\"2024-04-05 19:30:45\", \"serial\":101100, \"ip\":\"203.255.190.49\"}\n",
            "connectware/indoor/data/1501 {\"dust\":\"37,45\",\"co2\":\"395\",\"bme680\":\"25.73,23.83,1335650,100978,28.85\",\"time\":\"2024-04-05 19:30:46\", \"serial\":101101, \"ip\":\"203.255.190.49\"}\n",
            "connectware/indoor/data/1501 {\"dust\":\"37,45\",\"co2\":\"395\",\"bme680\":\"25.73,23.84,1333003,100979,28.76\",\"time\":\"2024-04-05 19:30:47\", \"serial\":101102, \"ip\":\"203.255.190.49\"}\n",
            "connectware/indoor/data/1501 {\"dust\":\"38,46\",\"co2\":\"395\",\"bme680\":\"25.73,23.83,1334325,100979,28.76\",\"time\":\"2024-04-05 19:30:48\", \"serial\":101103, \"ip\":\"203.255.190.49\"}\n",
            "connectware/indoor/data/1501 {\"dust\":\"38,46\",\"co2\":\"395\",\"bme680\":\"25.73,23.85,1333003,100979,28.76\",\"time\":\"2024-04-05 19:30:49\", \"serial\":101104, \"ip\":\"203.255.190.49\"}\n",
            "connectware/indoor/data/1501 {\"dust\":\"36,45\",\"co2\":\"395\",\"bme680\":\"25.73,23.84,1334325,100979,28.85\",\"time\":\"2024-04-05 19:30:50\", \"serial\":101105, \"ip\":\"203.255.190.49\"}\n",
            "connectware/indoor/data/1501 {\"dust\":\"36,45\",\"co2\":\"395\",\"bme680\":\"25.73,23.84,1330366,100979,28.85\",\"time\":\"2024-04-05 19:30:51\", \"serial\":101106, \"ip\":\"203.255.190.49\"}\n",
            "connectware/indoor/data/1501 {\"dust\":\"36,44\",\"co2\":\"395\",\"bme680\":\"25.73,23.85,1340977,100979,28.76\",\"time\":\"2024-04-05 19:30:52\", \"serial\":101107, \"ip\":\"203.255.190.49\"}\n",
            "https://api.thingspeak.com/update?api_key=70B2GG571IHYZASY&field1=395&field2=25.73 474\n"
          ]
        }
      ],
      "source": [
        "import paho.mqtt.client as mqtt\n",
        "\n",
        "def on_connect(client, userdata, flags, reason_code, properties):\n",
        "    print(f\"Connected with result code {reason_code}\")\n",
        "    client.subscribe(\"connectware/indoor/data/1501\")\n",
        "\n",
        "def on_message(client, userdata, msg):\n",
        "    doit(msg.topic, msg.payload.decode('utf8'))\n",
        "\n",
        "client = mqtt.Client(mqtt.CallbackAPIVersion.VERSION2)\n",
        "client.on_connect = on_connect\n",
        "client.on_message = on_message\n",
        "\n",
        "client.connect(\"damoa.io\", 1883, 60)\n",
        "client.loop_forever()"
      ]
    }
  ],
  "metadata": {
    "colab": {
      "provenance": [],
      "mount_file_id": "1wZTcYQaPL_2T45QRjC80QX0URNsV1xd4",
      "authorship_tag": "ABX9TyNdjqLeBxwOKS1veM5kfUj9",
      "include_colab_link": true
    },
    "kernelspec": {
      "display_name": "Python 3",
      "name": "python3"
    },
    "language_info": {
      "name": "python"
    }
  },
  "nbformat": 4,
  "nbformat_minor": 0
}